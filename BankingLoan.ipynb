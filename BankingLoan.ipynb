{
 "cells": [
  {
   "cell_type": "code",
   "execution_count": null,
   "id": "e57b821e-f821-4bc4-a8aa-029ba9f73d9f",
   "metadata": {},
   "outputs": [],
   "source": [
    "pers_salary = int(input('Please enter your salary'))\n",
    "previous_EMI = int(input('Please tell us about your previous EMI deduction'))\n",
    "EMI = pers_salary*20/100\n",
    "if previous_EMI > pers_salary*40/100:\n",
    "    print(\"Sorry but we can't give you the loan \")\n",
    "else:\n",
    "    fam_memb = int(input(\"please tell us that how many member in your family\"))\n",
    "    total_expenses = fam_memb * 4000\n",
    "    if total_expenses > pers_salary *60/100:\n",
    "        print('Sorry,but your expenses is too high bro ,how can you return the loan')\n",
    "    else:\n",
    "        CS = int(input(\"Enter your credit score\"))\n",
    "        if CS > 850:\n",
    "            print(\"Your rate of interest will be 13%\")\n",
    "            rate = 13\n",
    "            amount = int(input('Enter your required amount'))\n",
    "            time = int(input('For how many months you want the loan'))\n",
    "            interest = amount*13/100\n",
    "            Final_EMI = amount/time + interest/time\n",
    "            if Final_EMI >= pers_salary*40/100:\n",
    "                print('you are not eligible for loan ')\n",
    "            else:\n",
    "                print(\"Congrats ! your loan is approved\")\n",
    "        else:\n",
    "            print(\"Your rate of interest will be 15%\")\n",
    "            rate = 15\n",
    "            amount = int(input('Enter your required amount'))\n",
    "            time = int(input('For how many months you want the loan'))\n",
    "            interest = amount*15/100\n",
    "            Final_EMI = amount/time + interest/time\n",
    "            if Final_EMI >= pers_salary*40/100:\n",
    "                print('you are not eligible for loan ')\n",
    "            else:\n",
    "                print(\"Congrats ! your loan is approved and your EMI will be\", Final_EMI)"
   ]
  }
 ],
 "metadata": {
  "kernelspec": {
   "display_name": "Python 3 (ipykernel)",
   "language": "python",
   "name": "python3"
  },
  "language_info": {
   "codemirror_mode": {
    "name": "ipython",
    "version": 3
   },
   "file_extension": ".py",
   "mimetype": "text/x-python",
   "name": "python",
   "nbconvert_exporter": "python",
   "pygments_lexer": "ipython3",
   "version": "3.10.10"
  }
 },
 "nbformat": 4,
 "nbformat_minor": 5
}
