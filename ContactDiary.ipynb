{
 "cells": [
  {
   "cell_type": "code",
   "execution_count": null,
   "id": "56422e77-3201-4e23-86be-fed76e75df04",
   "metadata": {},
   "outputs": [],
   "source": [
    "contacts = []\n",
    "while True:\n",
    "    name = input(\"Enter contact name (or type 'done' to finish): \")\n",
    "    if name.lower() == 'done':\n",
    "        break\n",
    "    phone = input(\"Enter contact phone number: \")\n",
    "    while not (phone.isdigit() and len(phone) == 10):\n",
    "        print(\"Invalid phone number. Must be exactly 10 digits.\")\n",
    "        phone = input(\"Enter contact phone number: \")\n",
    "    email = input(\"Enter contact email: \")\n",
    "    contacts.append({\"name\": name, \"phone\": phone, \"email\": email})\n",
    "print(\"All Contacts:\")\n",
    "for contact in contacts:\n",
    "    print(contact[\"name\"], contact[\"phone\"], contact[\"email\"])\n",
    "search_name = input(\"Enter name to search: \")\n",
    "#search_number = input(\"Enter number to search: \")\n",
    "print(\"Search Results:\")\n",
    "found = False\n",
    "for contact in contacts:\n",
    "    if contact[\"name\"] == search_name or contact[\"phone\"] == search_number:\n",
    "        print(contact[\"name\"], contact[\"phone\"], contact[\"email\"])\n",
    "        found = True\n",
    "if not found:\n",
    "    print(\"Contact not found.\")\n",
    "remove_name = input(\"Enter name to remove: \")\n",
    "contacts = [contact for contact in contacts if contact[\"name\"] != remove_name]\n",
    "print(\"Contacts after removal:\")\n",
    "for contact in contacts:\n",
    "    print(contact[\"name\"], contact[\"phone\"], contact[\"email\"])"
   ]
  },
  {
   "cell_type": "code",
   "execution_count": null,
   "id": "eea5d82d-abe9-46c1-b6e7-ecc306d8a146",
   "metadata": {},
   "outputs": [],
   "source": []
  }
 ],
 "metadata": {
  "kernelspec": {
   "display_name": "Python 3 (ipykernel)",
   "language": "python",
   "name": "python3"
  },
  "language_info": {
   "codemirror_mode": {
    "name": "ipython",
    "version": 3
   },
   "file_extension": ".py",
   "mimetype": "text/x-python",
   "name": "python",
   "nbconvert_exporter": "python",
   "pygments_lexer": "ipython3",
   "version": "3.10.10"
  }
 },
 "nbformat": 4,
 "nbformat_minor": 5
}
