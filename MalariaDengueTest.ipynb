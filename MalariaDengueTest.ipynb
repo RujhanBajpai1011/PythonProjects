{
 "cells": [
  {
   "cell_type": "code",
   "execution_count": null,
   "id": "19d5ad61-32f7-4267-a079-77db24b6902b",
   "metadata": {},
   "outputs": [],
   "source": [
    "body_temp = float(input('Enter body temp in Fe'))\n",
    "if body_temp == 98.7:\n",
    "    print('Malaria not found')\n",
    "    pt_count = float(input('Enter platelet couunt'))\n",
    "    if pt_count < 1.8 :\n",
    "        print('Dengue')\n",
    "    else:\n",
    "        print('You are lucky you are my love')\n",
    "elif  body_temp >98.7 and body_temp <= 99:\n",
    "    print('Normal Temp')\n",
    "elif body_temp >99 and body_temp < 102:\n",
    "     pt_count = float(input('Enter platelet couunt'))\n",
    "     if pt_count < 1.8 :\n",
    "        print('Dengue and malaria')\n",
    "     else:\n",
    "        print('may be malaria')\n",
    "elif body_temp >102:\n",
    "     pt_count = float(input('Enter platelet couunt'))\n",
    "     if pt_count < 1.8 :\n",
    "        print('serious condition')\n",
    "     else:\n",
    "        print('high fever with malaria')\n",
    "else:\n",
    "    print('normal person')\n",
    "    \n",
    "\n",
    "\n"
   ]
  }
 ],
 "metadata": {
  "kernelspec": {
   "display_name": "Python 3 (ipykernel)",
   "language": "python",
   "name": "python3"
  },
  "language_info": {
   "codemirror_mode": {
    "name": "ipython",
    "version": 3
   },
   "file_extension": ".py",
   "mimetype": "text/x-python",
   "name": "python",
   "nbconvert_exporter": "python",
   "pygments_lexer": "ipython3",
   "version": "3.10.10"
  }
 },
 "nbformat": 4,
 "nbformat_minor": 5
}
