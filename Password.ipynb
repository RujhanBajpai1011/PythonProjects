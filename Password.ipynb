{
 "cells": [
  {
   "cell_type": "code",
   "execution_count": null,
   "id": "c306e9c7-8c97-4967-9eaf-9c48106fbd74",
   "metadata": {},
   "outputs": [],
   "source": [
    "a = input('Enter password: ')\n",
    "\n",
    "if 6 <= len(a) <= 12:\n",
    "    has_lower = any(c.islower() for c in a)\n",
    "    has_upper = any(c.isupper() for c in a)\n",
    "    has_number = any(c.isdigit() for c in a)\n",
    "    has_special = any(c in \"~!@#$%^&*()_+{[}].?>`=-</\\\\ \" for c in a)\n",
    "\n",
    "    if has_lower and has_number and has_upper and has_special:\n",
    "        print('Password is okay.')\n",
    "    else:\n",
    "        print('Password is not correct.')\n",
    "else:\n",
    "    print('Password must be more than 5 characters and less than 13.')\n"
   ]
  }
 ],
 "metadata": {
  "kernelspec": {
   "display_name": "Python 3 (ipykernel)",
   "language": "python",
   "name": "python3"
  },
  "language_info": {
   "codemirror_mode": {
    "name": "ipython",
    "version": 3
   },
   "file_extension": ".py",
   "mimetype": "text/x-python",
   "name": "python",
   "nbconvert_exporter": "python",
   "pygments_lexer": "ipython3",
   "version": "3.10.10"
  }
 },
 "nbformat": 4,
 "nbformat_minor": 5
}
