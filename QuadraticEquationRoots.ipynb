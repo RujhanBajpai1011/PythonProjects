{
 "cells": [
  {
   "cell_type": "code",
   "execution_count": null,
   "id": "869bb0a1-5b85-4067-82b3-b850742d49c1",
   "metadata": {},
   "outputs": [],
   "source": [
    "a = int(input('Enter the value of a'))\n",
    "b=  int(input('Enter the value of b'))\n",
    "c = int(input('Enter the value of c'))\n",
    "\n",
    "discriminant = b**2 - 4*a*c\n",
    "if discriminant > 0:\n",
    "        # Two distinct real roots\n",
    "    root1 = (-b + discriminant**0.5) / (2*a)\n",
    "    root2 = (-b - discriminant**0.5) / (2*a)\n",
    "    print(root1, root2)\n",
    "elif discriminant == 0:\n",
    "        # One real root (repeated)\n",
    "     root = -b / (2*a)\n",
    "     print(root)\n",
    "else:\n",
    "    # Complex roots\n",
    "     real_part = -b / (2*a)\n",
    "     imaginary_part = (abs(discriminant)**0.5) / (2*a)\n",
    "     root1 = complex(real_part, imaginary_part)\n",
    "     root2 = complex(real_part, -imaginary_part)\n",
    "     print(root1, root2)\n",
    "\n"
   ]
  }
 ],
 "metadata": {
  "kernelspec": {
   "display_name": "Python 3 (ipykernel)",
   "language": "python",
   "name": "python3"
  },
  "language_info": {
   "codemirror_mode": {
    "name": "ipython",
    "version": 3
   },
   "file_extension": ".py",
   "mimetype": "text/x-python",
   "name": "python",
   "nbconvert_exporter": "python",
   "pygments_lexer": "ipython3",
   "version": "3.10.10"
  }
 },
 "nbformat": 4,
 "nbformat_minor": 5
}
