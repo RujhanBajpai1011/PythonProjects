{
 "cells": [
  {
   "cell_type": "code",
   "execution_count": null,
   "id": "b3490544-c8e7-4df8-a22e-21987cde28b4",
   "metadata": {},
   "outputs": [],
   "source": [
    "Previous_Year_Result = input(\"Enter your previous year result\")\n",
    "\n",
    "if Previous_Year_Result == \"pass\":\n",
    "    Caste = input('Enter your caste, please')\n",
    "    \n",
    "    if Caste == 'General':\n",
    "        print('Sorry, this is not for you')\n",
    "    elif Caste == 'OBC':\n",
    "        Current_cgpa = float(input('Enter your current CGPA'))\n",
    "        if 5.0 <= Current_cgpa < 6.5:\n",
    "            print('Congrats! You got a scholarship of 20,000')\n",
    "        elif 6.5 <= Current_cgpa < 8.0:\n",
    "            print('Congrats! You got a scholarship of 24,000')\n",
    "        elif 8.0 <= Current_cgpa < 9.5:\n",
    "            print('Congrats! You got a scholarship of 30,000')\n",
    "        elif Current_cgpa >= 9.5:\n",
    "            print('Hey brilliant! You got a scholarship of 40,000')\n",
    "        else:\n",
    "            print('You got a scholarship of 15,000')\n",
    "    elif Caste == 'SC':\n",
    "        Current_cgpa = float(input('Enter your current CGPA'))\n",
    "        if 5.0 <= Current_cgpa < 6.5:\n",
    "            print('Congrats! You got a scholarship of 24,000')\n",
    "        elif 6.5 <= Current_cgpa < 8.0:\n",
    "            print('Congrats! You got a scholarship of 28,800')\n",
    "        elif 8.0 <= Current_cgpa < 9.5:\n",
    "            print('Congrats! You got a scholarship of 36,000')\n",
    "        elif Current_cgpa >= 9.5:\n",
    "            print('Hey brilliant! You got a scholarship of 48,000')\n",
    "        else:\n",
    "            print('You got a scholarship of 20,000')\n",
    "    elif Caste == \"ST\":\n",
    "        Current_cgpa = float(input('Enter your current CGPA'))\n",
    "        if 5.0 <= Current_cgpa < 6.5:\n",
    "            print('Congrats! You got a scholarship of 25,000')\n",
    "        elif 6.5 <= Current_cgpa < 8.0:\n",
    "            print('Congrats! You got a scholarship of 30,000')\n",
    "        elif 8.0 <= Current_cgpa < 9.5:\n",
    "            print('Congrats! You got a scholarship of 37,500')\n",
    "        elif Current_cgpa >= 9.5:\n",
    "            print('Hey brilliant! You got a scholarship of 50,000')\n",
    "        else:\n",
    "            print('You got a scholarship of 22,000')\n",
    "    else:\n",
    "        print('Enter a valid category')\n",
    "else:\n",
    "    print('You are not eligible')\n"
   ]
  }
 ],
 "metadata": {
  "kernelspec": {
   "display_name": "Python 3 (ipykernel)",
   "language": "python",
   "name": "python3"
  },
  "language_info": {
   "codemirror_mode": {
    "name": "ipython",
    "version": 3
   },
   "file_extension": ".py",
   "mimetype": "text/x-python",
   "name": "python",
   "nbconvert_exporter": "python",
   "pygments_lexer": "ipython3",
   "version": "3.10.10"
  }
 },
 "nbformat": 4,
 "nbformat_minor": 5
}
