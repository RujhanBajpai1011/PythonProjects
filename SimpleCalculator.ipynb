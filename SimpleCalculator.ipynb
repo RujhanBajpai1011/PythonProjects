{
 "cells": [
  {
   "cell_type": "code",
   "execution_count": null,
   "id": "a4c21fc9-f39c-4341-b26b-fa2913717dc1",
   "metadata": {},
   "outputs": [],
   "source": [
    "num_1 = int(input(\"Enter the number one\"))\n",
    "num_2 = int(input(\"Enter the number two\"))\n",
    "print('''\n",
    "      1 -  Add\n",
    "      2 - Subtract\n",
    "      3 - Multiply\n",
    "      4 - Divide ''')\n",
    "operator = int(input(\"Enter the Operator from 1,2,3,4\"))\n",
    "def add(num_1, num_2):\n",
    "    return num_1 + num_2\n",
    "def subtract(num_1, num_2):\n",
    "    return num_1 - num_2\n",
    "def multiply(num_1, num_2):\n",
    "    return num_1 * num_2\n",
    "def divide(num_1, num_2):\n",
    "    return num_1 / num_2\n",
    "if operator == 1 :\n",
    "    print(num_1, \"+\", num_2, \"=\",add(num_1, num_2))\n",
    "elif operator == 2 :\n",
    "    print(num_1, \"-\", num_2, \"=\",subtract(num_1, num_2))\n",
    "elif operator == 3 :\n",
    "    print(num_1,\"*\", num_2,\"=\",multiply(num_1, num_2))\n",
    "elif operator == 4:\n",
    "    print(num_1,\"/\",num_2,\"=\", divide(num_1, num_2))\n",
    "else:\n",
    "    print(\"Enter valid operator\")"
   ]
  }
 ],
 "metadata": {
  "kernelspec": {
   "display_name": "Python 3 (ipykernel)",
   "language": "python",
   "name": "python3"
  },
  "language_info": {
   "codemirror_mode": {
    "name": "ipython",
    "version": 3
   },
   "file_extension": ".py",
   "mimetype": "text/x-python",
   "name": "python",
   "nbconvert_exporter": "python",
   "pygments_lexer": "ipython3",
   "version": "3.10.10"
  }
 },
 "nbformat": 4,
 "nbformat_minor": 5
}
